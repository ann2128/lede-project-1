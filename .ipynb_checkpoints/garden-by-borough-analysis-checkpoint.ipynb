{
 "cells": [
  {
   "cell_type": "code",
   "execution_count": 4,
   "id": "80741bb1",
   "metadata": {},
   "outputs": [],
   "source": [
    "import pandas as pd\n",
    "df = pd.read_csv('active_garden_by_borough.csv')"
   ]
  },
  {
   "cell_type": "code",
   "execution_count": 11,
   "id": "062e2d1b",
   "metadata": {},
   "outputs": [
    {
     "name": "stdout",
     "output_type": "stream",
     "text": [
      "  borough  garden_count  population  ratio\n",
      "0       B           238     2590516   9.24\n",
      "1       M           138     1596273   8.47\n",
      "2       X           115     1379946   8.06\n",
      "3       Q            43     2278029   1.89\n",
      "4       R             7      491133   1.47\n"
     ]
    }
   ],
   "source": [
    "#add borough population (per July 2022 estimate) to dataframe\n",
    "#url: https://www.census.gov/quickfacts/fact/table/richmondcountynewyork,queenscountynewyork,newyorkcountynewyork,kingscountynewyork,bronxcountynewyork/PST045222\n",
    "population = [2590516, 1596273, 1379946, 2278029, 491133]\n",
    "df['population'] = population\n",
    "print(df)"
   ]
  },
  {
   "cell_type": "code",
   "execution_count": 12,
   "id": "8c321bb8",
   "metadata": {},
   "outputs": [
    {
     "data": {
      "text/plain": [
       "0    9.19\n",
       "1    8.65\n",
       "2    8.33\n",
       "3    1.89\n",
       "4    1.43\n",
       "dtype: float64"
      ]
     },
     "execution_count": 12,
     "metadata": {},
     "output_type": "execute_result"
    }
   ],
   "source": [
    "#ratio of people (by every 100,000 people) to community garden in each borough\n",
    "(df.garden_count / df.population * 100000).round(2)\n",
    "#Brooklyn: over 9 people in 100,000 \n",
    "#Manhattan: over 8.6 people in 100,000\n",
    "#Bronx: over 8.3 people in 100,000\n",
    "#Queens: almost 2 people in 100,000\n",
    "#Staten Island: almost 1.5 people in 100,000"
   ]
  },
  {
   "cell_type": "code",
   "execution_count": 13,
   "id": "71b5a048",
   "metadata": {},
   "outputs": [
    {
     "name": "stdout",
     "output_type": "stream",
     "text": [
      "  borough  garden_count  population  ratio\n",
      "0       B           238     2590516   9.19\n",
      "1       M           138     1596273   8.65\n",
      "2       X           115     1379946   8.33\n",
      "3       Q            43     2278029   1.89\n",
      "4       R             7      491133   1.43\n"
     ]
    }
   ],
   "source": [
    "ratio = [9.19, 8.65, 8.33, 1.89, 1.43]\n",
    "df['ratio'] = ratio\n",
    "df.to_csv('active_garden_by_borough.csv')\n",
    "print(df)"
   ]
  },
  {
   "cell_type": "code",
   "execution_count": 14,
   "id": "8a3e066d",
   "metadata": {},
   "outputs": [
    {
     "name": "stdout",
     "output_type": "stream",
     "text": [
      "  borough  garden_count  population  ratio  median_household_income\n",
      "0       B           238     2590516   9.19                    67753\n",
      "1       M           138     1596273   8.65                    93956\n",
      "2       X           115     1379946   8.33                    43726\n",
      "3       Q            43     2278029   1.89                    75886\n",
      "4       R             7      491133   1.43                    89427\n"
     ]
    }
   ],
   "source": [
    "median_household_income = [67753, 93956, 43726, 75886, 89427]\n",
    "df['median_household_income'] = median_household_income\n",
    "df.to_csv('active_garden_by_borough.csv')\n",
    "print(df)"
   ]
  },
  {
   "cell_type": "code",
   "execution_count": null,
   "id": "bb6f3760",
   "metadata": {},
   "outputs": [],
   "source": []
  }
 ],
 "metadata": {
  "kernelspec": {
   "display_name": "Python 3 (ipykernel)",
   "language": "python",
   "name": "python3"
  },
  "language_info": {
   "codemirror_mode": {
    "name": "ipython",
    "version": 3
   },
   "file_extension": ".py",
   "mimetype": "text/x-python",
   "name": "python",
   "nbconvert_exporter": "python",
   "pygments_lexer": "ipython3",
   "version": "3.10.11"
  }
 },
 "nbformat": 4,
 "nbformat_minor": 5
}
