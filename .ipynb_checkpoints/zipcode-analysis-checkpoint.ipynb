{
 "cells": [
  {
   "cell_type": "code",
   "execution_count": 9,
   "id": "b9d28c17",
   "metadata": {},
   "outputs": [],
   "source": [
    "#data pulled from https://data.census.gov/table?y=2021&d=ACS+5-Year+Estimates+Data+Profiles\n",
    "import pandas as pd\n",
    "df = pd.read_csv('zipcode_sample.csv')\n",
    "df.query('garden_num >= 17').to_csv('zipcode_top.csv')"
   ]
  },
  {
   "cell_type": "code",
   "execution_count": 3,
   "id": "02a18d4c",
   "metadata": {},
   "outputs": [
    {
     "ename": "NameError",
     "evalue": "name 'df' is not defined",
     "output_type": "error",
     "traceback": [
      "\u001b[0;31m---------------------------------------------------------------------------\u001b[0m",
      "\u001b[0;31mNameError\u001b[0m                                 Traceback (most recent call last)",
      "Cell \u001b[0;32mIn[3], line 1\u001b[0m\n\u001b[0;32m----> 1\u001b[0m \u001b[43mdf\u001b[49m\u001b[38;5;241m.\u001b[39mgarden_num\u001b[38;5;241m.\u001b[39mmedian()\n\u001b[1;32m      2\u001b[0m \u001b[38;5;66;03m#median number of garden per zipcode with active garden is 3\u001b[39;00m\n\u001b[1;32m      4\u001b[0m df\u001b[38;5;241m.\u001b[39mgarden_num\u001b[38;5;241m.\u001b[39msort_values(ascending\u001b[38;5;241m=\u001b[39m\u001b[38;5;28;01mFalse\u001b[39;00m)\u001b[38;5;241m.\u001b[39mhead(\u001b[38;5;241m10\u001b[39m)\n",
      "\u001b[0;31mNameError\u001b[0m: name 'df' is not defined"
     ]
    }
   ],
   "source": [
    "df.garden_num.median()\n",
    "#median number of garden per zipcode with active garden is 3"
   ]
  },
  {
   "cell_type": "code",
   "execution_count": 21,
   "id": "1770f739",
   "metadata": {},
   "outputs": [
    {
     "data": {
      "text/plain": [
       "91"
      ]
     },
     "execution_count": 21,
     "metadata": {},
     "output_type": "execute_result"
    }
   ],
   "source": [
    "df.zipcode.count()"
   ]
  },
  {
   "cell_type": "code",
   "execution_count": 57,
   "id": "c7294f0a",
   "metadata": {},
   "outputs": [
    {
     "data": {
      "text/plain": [
       "289"
      ]
     },
     "execution_count": 57,
     "metadata": {},
     "output_type": "execute_result"
    }
   ],
   "source": [
    "#There are at least 541 active gardens in NYC, so half is 271\n",
    "df.query('median_household_income < 60000').garden_num.sum()"
   ]
  },
  {
   "cell_type": "code",
   "execution_count": 158,
   "id": "53c57219",
   "metadata": {},
   "outputs": [
    {
     "name": "stdout",
     "output_type": "stream",
     "text": [
      "33\n",
      "76\n",
      "15\n"
     ]
    }
   ],
   "source": [
    "print(len(df.query('garden_num == 1')))\n",
    "#33 zipcodes with only 1 active garden each \n",
    "\n",
    "print(len(df.query('garden_num <= 10')))\n",
    "#76 zipcodes with 10 or fewer active gardens each\n",
    "\n",
    "print(len(df.query('garden_num > 10')))\n",
    "#15 zipcodes with more than 10 active gardens each"
   ]
  },
  {
   "cell_type": "code",
   "execution_count": 237,
   "id": "924d8aad",
   "metadata": {},
   "outputs": [
    {
     "name": "stdout",
     "output_type": "stream",
     "text": [
      "17\n",
      "8\n",
      "9\n"
     ]
    }
   ],
   "source": [
    "print(len(df.query('borough == \"Q\"')))\n",
    "print(len(df.query('garden_num == 1 and borough == \"Q\"')))\n",
    "print(len(df.query('garden_num <= 10 and garden_num >= 2 and borough == \"Q\"')))\n",
    "#17 zipcodes in Queens with active garden\n",
    "#8 zipcodes in Queens with only 1 active garden each\n",
    "#9 zipcodes in Queens with between 2-10 active gardens each\n",
    "#0 zipcodes in Queens with more than 10 active garden each"
   ]
  },
  {
   "cell_type": "code",
   "execution_count": 241,
   "id": "95aedb92",
   "metadata": {},
   "outputs": [
    {
     "name": "stdout",
     "output_type": "stream",
     "text": [
      "29\n",
      "8\n",
      "13\n",
      "8\n"
     ]
    }
   ],
   "source": [
    "print(len(df.query('borough == \"B\"')))\n",
    "print(len(df.query('garden_num == 1 and borough == \"B\"')))\n",
    "print(len(df.query('garden_num <= 10 and garden_num >= 2 and borough == \"B\"')))\n",
    "print(len(df.query('garden_num > 10 and borough == \"B\"')))\n",
    "#29 zipcodes in Brooklyn with active garden\n",
    "#8 zipcodes in Brooklyn with only 1 active garden each\n",
    "#13 zipcodes in Brooklyn with between 2-10 active gardens each\n",
    "#8 zipcodes in Queens with more than 10 active garden each"
   ]
  },
  {
   "cell_type": "code",
   "execution_count": 242,
   "id": "2655a305",
   "metadata": {},
   "outputs": [
    {
     "name": "stdout",
     "output_type": "stream",
     "text": [
      "21\n",
      "8\n",
      "10\n",
      "3\n"
     ]
    }
   ],
   "source": [
    "print(len(df.query('borough == \"X\"')))\n",
    "print(len(df.query('garden_num == 1 and borough == \"X\"')))\n",
    "print(len(df.query('garden_num <= 10 and garden_num >= 2 and borough == \"X\"')))\n",
    "print(len(df.query('garden_num > 10 and borough == \"X\"')))\n",
    "#21 zipcodes in Bronx with active garden\n",
    "#8 zipcodes in Bronx with only 1 active garden each\n",
    "#10 zipcodes in Bronx with between 2-10 active gardens each\n",
    "#3 zipcodes in Bronx with more than 10 active gardens each"
   ]
  },
  {
   "cell_type": "code",
   "execution_count": 243,
   "id": "ab85743c",
   "metadata": {},
   "outputs": [
    {
     "name": "stdout",
     "output_type": "stream",
     "text": [
      "21\n",
      "9\n",
      "8\n",
      "4\n"
     ]
    }
   ],
   "source": [
    "print(len(df.query('borough == \"M\"')))\n",
    "print(len(df.query('garden_num == 1 and borough == \"M\"')))\n",
    "print(len(df.query('garden_num <= 10 and garden_num >= 2 and borough == \"M\"')))\n",
    "print(len(df.query('garden_num > 10 and borough == \"M\"')))\n",
    "#21 zipcodes in Manhattan with active garden\n",
    "#9 zipcodes in Manhattan with only 1 active garden each\n",
    "#8 zipcodes in Manhattan with between 2-10 active gardens each\n",
    "#4 zipcodes in Manhattan with more than 10 active gardens each"
   ]
  },
  {
   "cell_type": "code",
   "execution_count": 244,
   "id": "d37ded34",
   "metadata": {},
   "outputs": [
    {
     "name": "stdout",
     "output_type": "stream",
     "text": [
      "3\n",
      "0\n",
      "3\n",
      "0\n"
     ]
    }
   ],
   "source": [
    "print(len(df.query('borough == \"R\"')))\n",
    "print(len(df.query('garden_num == 1 and borough == \"R\"')))\n",
    "print(len(df.query('garden_num <= 10 and garden_num >= 2 and borough == \"R\"')))\n",
    "print(len(df.query('garden_num > 10 and borough == \"R\"')))\n",
    "#3 zipcodes in Staten Island with active garden\n",
    "#0 zipcode in Staten Island with only 1 active garden \n",
    "#3 zipcodes in Staten Island with between 2-10 active gardens each\n",
    "#0 zipcode in Staten Island with more than 10 active gardens each"
   ]
  },
  {
   "cell_type": "code",
   "execution_count": 174,
   "id": "801752a6",
   "metadata": {},
   "outputs": [
    {
     "data": {
      "text/plain": [
       "5.82"
      ]
     },
     "execution_count": 174,
     "metadata": {},
     "output_type": "execute_result"
    }
   ],
   "source": [
    "ratio = (df.garden_num / df.population * 100000).round(2)\n",
    "ratio.median()\n",
    "#The median ratio of active gardens to 100,000 people ratio "
   ]
  },
  {
   "cell_type": "code",
   "execution_count": 172,
   "id": "aee8d509",
   "metadata": {},
   "outputs": [
    {
     "data": {
      "text/plain": [
       "1     63.33\n",
       "8     45.89\n",
       "0     45.04\n",
       "4     30.38\n",
       "2     30.36\n",
       "10    29.93\n",
       "3     23.40\n",
       "15    23.37\n",
       "12    22.50\n",
       "7     21.71\n",
       "dtype: float64"
      ]
     },
     "execution_count": 172,
     "metadata": {},
     "output_type": "execute_result"
    }
   ],
   "source": [
    "ratio.sort_values(ascending=False).head(10)\n",
    "#the 10 zipcodes with the top active gardens to 100,000 people ratio "
   ]
  },
  {
   "cell_type": "code",
   "execution_count": 120,
   "id": "fea69f01",
   "metadata": {},
   "outputs": [],
   "source": [
    "df.query('index == 1 \\\n",
    "        or index == 8 \\\n",
    "        or index == 0 \\\n",
    "        or index == 4 \\\n",
    "        or index == 2 \\\n",
    "        or index == 10 \\\n",
    "        or index == 3 \\\n",
    "        or index == 15 \\\n",
    "        or index == 12 \\\n",
    "        or index == 7').to_csv('top_ratio.csv')\n",
    "\n",
    "# index 1: 10009 with 63.33 \n",
    "# index 8: 10035 with 45.89 \n",
    "# index 0: 11207 with 45.04  \n",
    "# index 4: 10027 with 30.38  \n",
    "#index 2: 11233 with 30.36 \n",
    "#index 10: 10451 with 29.93 \n",
    "#index 3: 11221 with 23.4 \n",
    "#index 15: 10455 with 23.37\n",
    "#index 12: 11216 with 22.5 \n",
    "#index 7: 11212 with 21.71 "
   ]
  },
  {
   "cell_type": "code",
   "execution_count": 160,
   "id": "27074825",
   "metadata": {
    "scrolled": true
   },
   "outputs": [
    {
     "data": {
      "text/html": [
       "<div>\n",
       "<style scoped>\n",
       "    .dataframe tbody tr th:only-of-type {\n",
       "        vertical-align: middle;\n",
       "    }\n",
       "\n",
       "    .dataframe tbody tr th {\n",
       "        vertical-align: top;\n",
       "    }\n",
       "\n",
       "    .dataframe thead th {\n",
       "        text-align: right;\n",
       "    }\n",
       "</style>\n",
       "<table border=\"1\" class=\"dataframe\">\n",
       "  <thead>\n",
       "    <tr style=\"text-align: right;\">\n",
       "      <th></th>\n",
       "      <th>original_index</th>\n",
       "      <th>garden_num</th>\n",
       "      <th>zipcode</th>\n",
       "      <th>borough</th>\n",
       "      <th>population</th>\n",
       "      <th>median_household_income</th>\n",
       "      <th>median_age</th>\n",
       "      <th>hispanic_or_latino</th>\n",
       "      <th>white_alone</th>\n",
       "      <th>black_alone</th>\n",
       "      <th>asian_alone</th>\n",
       "      <th>garden_pop_ratio</th>\n",
       "    </tr>\n",
       "  </thead>\n",
       "  <tbody>\n",
       "    <tr>\n",
       "      <th>0</th>\n",
       "      <td>0</td>\n",
       "      <td>44</td>\n",
       "      <td>11207</td>\n",
       "      <td>B</td>\n",
       "      <td>97690</td>\n",
       "      <td>45616</td>\n",
       "      <td>35.0</td>\n",
       "      <td>34.4</td>\n",
       "      <td>5.1</td>\n",
       "      <td>55.2</td>\n",
       "      <td>1.5</td>\n",
       "      <td>45.04</td>\n",
       "    </tr>\n",
       "    <tr>\n",
       "      <th>1</th>\n",
       "      <td>1</td>\n",
       "      <td>38</td>\n",
       "      <td>10009</td>\n",
       "      <td>M</td>\n",
       "      <td>60000</td>\n",
       "      <td>77551</td>\n",
       "      <td>37.0</td>\n",
       "      <td>24.5</td>\n",
       "      <td>50.8</td>\n",
       "      <td>6.8</td>\n",
       "      <td>12.9</td>\n",
       "      <td>63.33</td>\n",
       "    </tr>\n",
       "    <tr>\n",
       "      <th>2</th>\n",
       "      <td>2</td>\n",
       "      <td>26</td>\n",
       "      <td>11233</td>\n",
       "      <td>B</td>\n",
       "      <td>85633</td>\n",
       "      <td>52380</td>\n",
       "      <td>34.1</td>\n",
       "      <td>15.9</td>\n",
       "      <td>11.4</td>\n",
       "      <td>67.7</td>\n",
       "      <td>1.3</td>\n",
       "      <td>30.36</td>\n",
       "    </tr>\n",
       "    <tr>\n",
       "      <th>3</th>\n",
       "      <td>3</td>\n",
       "      <td>21</td>\n",
       "      <td>11221</td>\n",
       "      <td>B</td>\n",
       "      <td>89728</td>\n",
       "      <td>66923</td>\n",
       "      <td>32.1</td>\n",
       "      <td>32.4</td>\n",
       "      <td>20.0</td>\n",
       "      <td>39.5</td>\n",
       "      <td>4.4</td>\n",
       "      <td>23.40</td>\n",
       "    </tr>\n",
       "    <tr>\n",
       "      <th>4</th>\n",
       "      <td>4</td>\n",
       "      <td>20</td>\n",
       "      <td>10027</td>\n",
       "      <td>M</td>\n",
       "      <td>65840</td>\n",
       "      <td>58435</td>\n",
       "      <td>31.0</td>\n",
       "      <td>25.8</td>\n",
       "      <td>26.1</td>\n",
       "      <td>35.3</td>\n",
       "      <td>8.6</td>\n",
       "      <td>30.38</td>\n",
       "    </tr>\n",
       "    <tr>\n",
       "      <th>5</th>\n",
       "      <td>7</td>\n",
       "      <td>17</td>\n",
       "      <td>11212</td>\n",
       "      <td>B</td>\n",
       "      <td>78296</td>\n",
       "      <td>30733</td>\n",
       "      <td>38.4</td>\n",
       "      <td>17.0</td>\n",
       "      <td>3.2</td>\n",
       "      <td>73.3</td>\n",
       "      <td>1.1</td>\n",
       "      <td>21.71</td>\n",
       "    </tr>\n",
       "    <tr>\n",
       "      <th>6</th>\n",
       "      <td>8</td>\n",
       "      <td>17</td>\n",
       "      <td>10035</td>\n",
       "      <td>M</td>\n",
       "      <td>37042</td>\n",
       "      <td>32555</td>\n",
       "      <td>36.3</td>\n",
       "      <td>44.0</td>\n",
       "      <td>13.1</td>\n",
       "      <td>36.4</td>\n",
       "      <td>3.7</td>\n",
       "      <td>45.89</td>\n",
       "    </tr>\n",
       "    <tr>\n",
       "      <th>7</th>\n",
       "      <td>10</td>\n",
       "      <td>15</td>\n",
       "      <td>10451</td>\n",
       "      <td>X</td>\n",
       "      <td>50118</td>\n",
       "      <td>33945</td>\n",
       "      <td>34.3</td>\n",
       "      <td>56.1</td>\n",
       "      <td>4.2</td>\n",
       "      <td>36.9</td>\n",
       "      <td>1.2</td>\n",
       "      <td>29.93</td>\n",
       "    </tr>\n",
       "    <tr>\n",
       "      <th>8</th>\n",
       "      <td>12</td>\n",
       "      <td>14</td>\n",
       "      <td>11216</td>\n",
       "      <td>B</td>\n",
       "      <td>62210</td>\n",
       "      <td>84661</td>\n",
       "      <td>34.2</td>\n",
       "      <td>12.8</td>\n",
       "      <td>30.3</td>\n",
       "      <td>46.5</td>\n",
       "      <td>4.5</td>\n",
       "      <td>22.50</td>\n",
       "    </tr>\n",
       "    <tr>\n",
       "      <th>9</th>\n",
       "      <td>15</td>\n",
       "      <td>10</td>\n",
       "      <td>10455</td>\n",
       "      <td>X</td>\n",
       "      <td>42781</td>\n",
       "      <td>30741</td>\n",
       "      <td>31.6</td>\n",
       "      <td>73.0</td>\n",
       "      <td>2.0</td>\n",
       "      <td>22.8</td>\n",
       "      <td>0.8</td>\n",
       "      <td>23.37</td>\n",
       "    </tr>\n",
       "  </tbody>\n",
       "</table>\n",
       "</div>"
      ],
      "text/plain": [
       "   original_index  garden_num  zipcode borough  population  \\\n",
       "0               0          44    11207       B       97690   \n",
       "1               1          38    10009       M       60000   \n",
       "2               2          26    11233       B       85633   \n",
       "3               3          21    11221       B       89728   \n",
       "4               4          20    10027       M       65840   \n",
       "5               7          17    11212       B       78296   \n",
       "6               8          17    10035       M       37042   \n",
       "7              10          15    10451       X       50118   \n",
       "8              12          14    11216       B       62210   \n",
       "9              15          10    10455       X       42781   \n",
       "\n",
       "   median_household_income  median_age  hispanic_or_latino  white_alone  \\\n",
       "0                    45616        35.0                34.4          5.1   \n",
       "1                    77551        37.0                24.5         50.8   \n",
       "2                    52380        34.1                15.9         11.4   \n",
       "3                    66923        32.1                32.4         20.0   \n",
       "4                    58435        31.0                25.8         26.1   \n",
       "5                    30733        38.4                17.0          3.2   \n",
       "6                    32555        36.3                44.0         13.1   \n",
       "7                    33945        34.3                56.1          4.2   \n",
       "8                    84661        34.2                12.8         30.3   \n",
       "9                    30741        31.6                73.0          2.0   \n",
       "\n",
       "   black_alone  asian_alone  garden_pop_ratio  \n",
       "0         55.2          1.5             45.04  \n",
       "1          6.8         12.9             63.33  \n",
       "2         67.7          1.3             30.36  \n",
       "3         39.5          4.4             23.40  \n",
       "4         35.3          8.6             30.38  \n",
       "5         73.3          1.1             21.71  \n",
       "6         36.4          3.7             45.89  \n",
       "7         36.9          1.2             29.93  \n",
       "8         46.5          4.5             22.50  \n",
       "9         22.8          0.8             23.37  "
      ]
     },
     "execution_count": 160,
     "metadata": {},
     "output_type": "execute_result"
    }
   ],
   "source": [
    "df_top = pd.read_csv('top_ratio.csv')\n",
    "garden_pop_ratio = [45.04, 63.33, 30.36, 23.4, 30.38, 21.71, 45.89, 29.93, 22.5, 23.37]\n",
    "df_top['garden_pop_ratio'] = garden_pop_ratio\n",
    "df_top"
   ]
  },
  {
   "cell_type": "code",
   "execution_count": 250,
   "id": "a090540f",
   "metadata": {},
   "outputs": [],
   "source": [
    "top_zipcode_latitude = [40.6655, 40.7275, 40.6796, 40.6903, 40.8139, 40.6639, 40.7941, 40.8187, 40.6788, 40.8148]\n",
    "df_top['top_zipcode_latitude'] = top_zipcode_latitude\n",
    "\n",
    "top_zipcode_longitude = [73.8919, 73.9801, 73.9213, 73.9272, 73.9624, 73.9154, 73.9272, 73.9272, 73.9507, 73.9081]\n",
    "df_top['top_zipcode_longitude'] = top_zipcode_longitude\n",
    "\n",
    "df_top.to_csv('top_ratio.csv')"
   ]
  },
  {
   "cell_type": "code",
   "execution_count": 142,
   "id": "3709e7fd",
   "metadata": {},
   "outputs": [
    {
     "data": {
      "text/plain": [
       "borough\n",
       "B    5\n",
       "M    3\n",
       "X    2\n",
       "Name: count, dtype: int64"
      ]
     },
     "execution_count": 142,
     "metadata": {},
     "output_type": "execute_result"
    }
   ],
   "source": [
    "df_top.borough.value_counts()\n",
    "#Brooklyn: 50%\n",
    "#Manhattan: 30%\n",
    "#Bronx: 20%"
   ]
  },
  {
   "cell_type": "code",
   "execution_count": 203,
   "id": "d50d76c9",
   "metadata": {
    "scrolled": true
   },
   "outputs": [
    {
     "name": "stdout",
     "output_type": "stream",
     "text": [
      "48998.0\n",
      "34.25\n",
      "29.1\n",
      "12.25\n",
      "38.2\n",
      "2.6\n"
     ]
    }
   ],
   "source": [
    "print(df_top.median_household_income.median())\n",
    "#The median of median household income for these 10 zipcodes is around $49,000.\n",
    "\n",
    "print(df_top.median_age.median())\n",
    "#The median of median age is around 34 years old.\n",
    "\n",
    "print(df_top.hispanic_or_latino.median())\n",
    "#The median percentage of the Latino/Hispanic population is around 29.1%.\n",
    "\n",
    "print(df_top.white_alone.median())\n",
    "#The median percentage of the white alone population is 12.3%\n",
    "\n",
    "print(df_top.black_alone.median())\n",
    "#The median percentage of the black alone population is 38.2%\n",
    "\n",
    "print(df_top.asian_alone.median())\n",
    "#The median percentage of the Asian alone population is 2.6%"
   ]
  },
  {
   "cell_type": "code",
   "execution_count": 170,
   "id": "8640b94d",
   "metadata": {},
   "outputs": [
    {
     "data": {
      "text/html": [
       "<div>\n",
       "<style scoped>\n",
       "    .dataframe tbody tr th:only-of-type {\n",
       "        vertical-align: middle;\n",
       "    }\n",
       "\n",
       "    .dataframe tbody tr th {\n",
       "        vertical-align: top;\n",
       "    }\n",
       "\n",
       "    .dataframe thead th {\n",
       "        text-align: right;\n",
       "    }\n",
       "</style>\n",
       "<table border=\"1\" class=\"dataframe\">\n",
       "  <thead>\n",
       "    <tr style=\"text-align: right;\">\n",
       "      <th></th>\n",
       "      <th>original_index</th>\n",
       "      <th>garden_num</th>\n",
       "      <th>zipcode</th>\n",
       "      <th>borough</th>\n",
       "      <th>population</th>\n",
       "      <th>median_household_income</th>\n",
       "      <th>median_age</th>\n",
       "      <th>hispanic_or_latino</th>\n",
       "      <th>white_alone</th>\n",
       "      <th>black_alone</th>\n",
       "      <th>asian_alone</th>\n",
       "      <th>garden_pop_ratio</th>\n",
       "    </tr>\n",
       "  </thead>\n",
       "  <tbody>\n",
       "    <tr>\n",
       "      <th>1</th>\n",
       "      <td>1</td>\n",
       "      <td>38</td>\n",
       "      <td>10009</td>\n",
       "      <td>M</td>\n",
       "      <td>60000</td>\n",
       "      <td>77551</td>\n",
       "      <td>37.0</td>\n",
       "      <td>24.5</td>\n",
       "      <td>50.8</td>\n",
       "      <td>6.8</td>\n",
       "      <td>12.9</td>\n",
       "      <td>63.33</td>\n",
       "    </tr>\n",
       "  </tbody>\n",
       "</table>\n",
       "</div>"
      ],
      "text/plain": [
       "   original_index  garden_num  zipcode borough  population  \\\n",
       "1               1          38    10009       M       60000   \n",
       "\n",
       "   median_household_income  median_age  hispanic_or_latino  white_alone  \\\n",
       "1                    77551        37.0                24.5         50.8   \n",
       "\n",
       "   black_alone  asian_alone  garden_pop_ratio  \n",
       "1          6.8         12.9             63.33  "
      ]
     },
     "execution_count": 170,
     "metadata": {},
     "output_type": "execute_result"
    }
   ],
   "source": [
    "df_top.garden_pop_ratio.sort_values(ascending=False).head(1)\n",
    "df_top.query('garden_pop_ratio == 63.33')\n",
    "#Top: with 38 active gardens in East Village, around 63 per 100,000 people here can access an active community garden"
   ]
  },
  {
   "cell_type": "code",
   "execution_count": 191,
   "id": "e6373a5a",
   "metadata": {},
   "outputs": [
    {
     "data": {
      "text/plain": [
       "80    0.92\n",
       "85    0.98\n",
       "81    1.06\n",
       "67    1.07\n",
       "79    1.09\n",
       "78    1.17\n",
       "60    1.24\n",
       "63    1.27\n",
       "74    1.31\n",
       "75    1.33\n",
       "dtype: float64"
      ]
     },
     "execution_count": 191,
     "metadata": {},
     "output_type": "execute_result"
    }
   ],
   "source": [
    "ratio.sort_values(ascending=True).head(10)\n",
    "#the zipcodes with the fewest active gardens to 100,000 people ratio (in zipcode with active garden)"
   ]
  },
  {
   "cell_type": "code",
   "execution_count": 177,
   "id": "1bab7ece",
   "metadata": {},
   "outputs": [],
   "source": [
    "df.query('index == 80 \\\n",
    "        or index == 85 \\\n",
    "        or index == 81 \\\n",
    "        or index == 67 \\\n",
    "        or index == 79 \\\n",
    "        or index == 78 \\\n",
    "        or index == 60 \\\n",
    "        or index == 63 \\\n",
    "        or index == 74 \\\n",
    "        or index == 75').to_csv('bottom_ratio.csv')"
   ]
  },
  {
   "cell_type": "code",
   "execution_count": 195,
   "id": "f7a10617",
   "metadata": {},
   "outputs": [
    {
     "data": {
      "text/html": [
       "<div>\n",
       "<style scoped>\n",
       "    .dataframe tbody tr th:only-of-type {\n",
       "        vertical-align: middle;\n",
       "    }\n",
       "\n",
       "    .dataframe tbody tr th {\n",
       "        vertical-align: top;\n",
       "    }\n",
       "\n",
       "    .dataframe thead th {\n",
       "        text-align: right;\n",
       "    }\n",
       "</style>\n",
       "<table border=\"1\" class=\"dataframe\">\n",
       "  <thead>\n",
       "    <tr style=\"text-align: right;\">\n",
       "      <th></th>\n",
       "      <th>original_index</th>\n",
       "      <th>garden_num</th>\n",
       "      <th>zipcode</th>\n",
       "      <th>borough</th>\n",
       "      <th>population</th>\n",
       "      <th>median_household_income</th>\n",
       "      <th>median_age</th>\n",
       "      <th>hispanic_or_latino</th>\n",
       "      <th>white_alone</th>\n",
       "      <th>black_alone</th>\n",
       "      <th>asian_alone</th>\n",
       "      <th>garden_pop_ratio</th>\n",
       "    </tr>\n",
       "  </thead>\n",
       "  <tbody>\n",
       "    <tr>\n",
       "      <th>0</th>\n",
       "      <td>60</td>\n",
       "      <td>1</td>\n",
       "      <td>11355</td>\n",
       "      <td>Q</td>\n",
       "      <td>80918</td>\n",
       "      <td>46963</td>\n",
       "      <td>44.9</td>\n",
       "      <td>15.0</td>\n",
       "      <td>7.5</td>\n",
       "      <td>2.1</td>\n",
       "      <td>73.6</td>\n",
       "      <td>1.24</td>\n",
       "    </tr>\n",
       "    <tr>\n",
       "      <th>1</th>\n",
       "      <td>63</td>\n",
       "      <td>1</td>\n",
       "      <td>10462</td>\n",
       "      <td>X</td>\n",
       "      <td>78470</td>\n",
       "      <td>59032</td>\n",
       "      <td>35.5</td>\n",
       "      <td>47.9</td>\n",
       "      <td>10.9</td>\n",
       "      <td>22.3</td>\n",
       "      <td>14.8</td>\n",
       "      <td>1.27</td>\n",
       "    </tr>\n",
       "    <tr>\n",
       "      <th>2</th>\n",
       "      <td>67</td>\n",
       "      <td>1</td>\n",
       "      <td>11220</td>\n",
       "      <td>B</td>\n",
       "      <td>93584</td>\n",
       "      <td>57046</td>\n",
       "      <td>35.9</td>\n",
       "      <td>39.3</td>\n",
       "      <td>15.5</td>\n",
       "      <td>1.8</td>\n",
       "      <td>41.9</td>\n",
       "      <td>1.07</td>\n",
       "    </tr>\n",
       "    <tr>\n",
       "      <th>3</th>\n",
       "      <td>74</td>\n",
       "      <td>1</td>\n",
       "      <td>11375</td>\n",
       "      <td>Q</td>\n",
       "      <td>76091</td>\n",
       "      <td>96321</td>\n",
       "      <td>44.1</td>\n",
       "      <td>14.5</td>\n",
       "      <td>49.8</td>\n",
       "      <td>2.6</td>\n",
       "      <td>28.5</td>\n",
       "      <td>1.31</td>\n",
       "    </tr>\n",
       "    <tr>\n",
       "      <th>4</th>\n",
       "      <td>75</td>\n",
       "      <td>1</td>\n",
       "      <td>10469</td>\n",
       "      <td>X</td>\n",
       "      <td>75290</td>\n",
       "      <td>70415</td>\n",
       "      <td>40.3</td>\n",
       "      <td>28.3</td>\n",
       "      <td>9.4</td>\n",
       "      <td>53.3</td>\n",
       "      <td>5.4</td>\n",
       "      <td>1.33</td>\n",
       "    </tr>\n",
       "    <tr>\n",
       "      <th>5</th>\n",
       "      <td>78</td>\n",
       "      <td>1</td>\n",
       "      <td>11229</td>\n",
       "      <td>B</td>\n",
       "      <td>85538</td>\n",
       "      <td>69076</td>\n",
       "      <td>41.0</td>\n",
       "      <td>9.2</td>\n",
       "      <td>59.3</td>\n",
       "      <td>5.4</td>\n",
       "      <td>23.2</td>\n",
       "      <td>1.17</td>\n",
       "    </tr>\n",
       "    <tr>\n",
       "      <th>6</th>\n",
       "      <td>79</td>\n",
       "      <td>1</td>\n",
       "      <td>11230</td>\n",
       "      <td>B</td>\n",
       "      <td>91789</td>\n",
       "      <td>61017</td>\n",
       "      <td>35.2</td>\n",
       "      <td>10.9</td>\n",
       "      <td>62.4</td>\n",
       "      <td>7.5</td>\n",
       "      <td>15.2</td>\n",
       "      <td>1.09</td>\n",
       "    </tr>\n",
       "    <tr>\n",
       "      <th>7</th>\n",
       "      <td>80</td>\n",
       "      <td>1</td>\n",
       "      <td>11385</td>\n",
       "      <td>Q</td>\n",
       "      <td>109111</td>\n",
       "      <td>77350</td>\n",
       "      <td>36.2</td>\n",
       "      <td>46.6</td>\n",
       "      <td>42.6</td>\n",
       "      <td>2.0</td>\n",
       "      <td>6.9</td>\n",
       "      <td>0.92</td>\n",
       "    </tr>\n",
       "    <tr>\n",
       "      <th>8</th>\n",
       "      <td>81</td>\n",
       "      <td>1</td>\n",
       "      <td>11234</td>\n",
       "      <td>B</td>\n",
       "      <td>94254</td>\n",
       "      <td>86185</td>\n",
       "      <td>41.7</td>\n",
       "      <td>9.1</td>\n",
       "      <td>34.6</td>\n",
       "      <td>44.1</td>\n",
       "      <td>8.0</td>\n",
       "      <td>1.06</td>\n",
       "    </tr>\n",
       "    <tr>\n",
       "      <th>9</th>\n",
       "      <td>85</td>\n",
       "      <td>1</td>\n",
       "      <td>10467</td>\n",
       "      <td>X</td>\n",
       "      <td>102209</td>\n",
       "      <td>42639</td>\n",
       "      <td>34.4</td>\n",
       "      <td>52.2</td>\n",
       "      <td>9.2</td>\n",
       "      <td>28.9</td>\n",
       "      <td>6.2</td>\n",
       "      <td>0.98</td>\n",
       "    </tr>\n",
       "  </tbody>\n",
       "</table>\n",
       "</div>"
      ],
      "text/plain": [
       "   original_index  garden_num  zipcode borough  population  \\\n",
       "0              60           1    11355       Q       80918   \n",
       "1              63           1    10462       X       78470   \n",
       "2              67           1    11220       B       93584   \n",
       "3              74           1    11375       Q       76091   \n",
       "4              75           1    10469       X       75290   \n",
       "5              78           1    11229       B       85538   \n",
       "6              79           1    11230       B       91789   \n",
       "7              80           1    11385       Q      109111   \n",
       "8              81           1    11234       B       94254   \n",
       "9              85           1    10467       X      102209   \n",
       "\n",
       "   median_household_income  median_age  hispanic_or_latino  white_alone  \\\n",
       "0                    46963        44.9                15.0          7.5   \n",
       "1                    59032        35.5                47.9         10.9   \n",
       "2                    57046        35.9                39.3         15.5   \n",
       "3                    96321        44.1                14.5         49.8   \n",
       "4                    70415        40.3                28.3          9.4   \n",
       "5                    69076        41.0                 9.2         59.3   \n",
       "6                    61017        35.2                10.9         62.4   \n",
       "7                    77350        36.2                46.6         42.6   \n",
       "8                    86185        41.7                 9.1         34.6   \n",
       "9                    42639        34.4                52.2          9.2   \n",
       "\n",
       "   black_alone  asian_alone  garden_pop_ratio  \n",
       "0          2.1         73.6              1.24  \n",
       "1         22.3         14.8              1.27  \n",
       "2          1.8         41.9              1.07  \n",
       "3          2.6         28.5              1.31  \n",
       "4         53.3          5.4              1.33  \n",
       "5          5.4         23.2              1.17  \n",
       "6          7.5         15.2              1.09  \n",
       "7          2.0          6.9              0.92  \n",
       "8         44.1          8.0              1.06  \n",
       "9         28.9          6.2              0.98  "
      ]
     },
     "execution_count": 195,
     "metadata": {},
     "output_type": "execute_result"
    }
   ],
   "source": [
    "df_bottom = pd.read_csv('bottom_ratio.csv')\n",
    "garden_pop_ratio = [1.24, 1.27, 1.07, 1.31, 1.33, 1.17, 1.09, 0.92, 1.06, 0.98]\n",
    "df_bottom['garden_pop_ratio'] = garden_pop_ratio\n",
    "df_bottom"
   ]
  },
  {
   "cell_type": "code",
   "execution_count": 196,
   "id": "996938e8",
   "metadata": {},
   "outputs": [
    {
     "data": {
      "text/plain": [
       "borough\n",
       "B    4\n",
       "Q    3\n",
       "X    3\n",
       "Name: count, dtype: int64"
      ]
     },
     "execution_count": 196,
     "metadata": {},
     "output_type": "execute_result"
    }
   ],
   "source": [
    "df_bottom.borough.value_counts()\n",
    "#Brooklyn: 40%\n",
    "#Queens: 30%\n",
    "#Bronx: 30%"
   ]
  },
  {
   "cell_type": "code",
   "execution_count": 204,
   "id": "7b04dc4a",
   "metadata": {},
   "outputs": [
    {
     "name": "stdout",
     "output_type": "stream",
     "text": [
      "65046.5\n",
      "38.25\n",
      "21.65\n",
      "25.05\n",
      "6.45\n",
      "15.0\n"
     ]
    }
   ],
   "source": [
    "print(df_bottom.median_household_income.median())\n",
    "#The median of the median household income for these 10 zipcodes is around $65,000.\n",
    "\n",
    "print(df_bottom.median_age.median())\n",
    "#The median of median age is around 38 years old.\n",
    "\n",
    "print(df_bottom.hispanic_or_latino.median())\n",
    "#The median percentage of the Latino/Hispanic population is around 21.7%.\n",
    "\n",
    "print(df_bottom.white_alone.median())\n",
    "#The median percentage of the white alone population is 25.1%\n",
    "\n",
    "print(df_bottom.black_alone.median())\n",
    "#The median percentage of the black alone population is 6.5%\n",
    "\n",
    "print(df_bottom.asian_alone.median())\n",
    "#The median percentage of the Asian alone population is 15%"
   ]
  },
  {
   "cell_type": "code",
   "execution_count": 200,
   "id": "789d4cdd",
   "metadata": {
    "scrolled": true
   },
   "outputs": [
    {
     "data": {
      "text/html": [
       "<div>\n",
       "<style scoped>\n",
       "    .dataframe tbody tr th:only-of-type {\n",
       "        vertical-align: middle;\n",
       "    }\n",
       "\n",
       "    .dataframe tbody tr th {\n",
       "        vertical-align: top;\n",
       "    }\n",
       "\n",
       "    .dataframe thead th {\n",
       "        text-align: right;\n",
       "    }\n",
       "</style>\n",
       "<table border=\"1\" class=\"dataframe\">\n",
       "  <thead>\n",
       "    <tr style=\"text-align: right;\">\n",
       "      <th></th>\n",
       "      <th>original_index</th>\n",
       "      <th>garden_num</th>\n",
       "      <th>zipcode</th>\n",
       "      <th>borough</th>\n",
       "      <th>population</th>\n",
       "      <th>median_household_income</th>\n",
       "      <th>median_age</th>\n",
       "      <th>hispanic_or_latino</th>\n",
       "      <th>white_alone</th>\n",
       "      <th>black_alone</th>\n",
       "      <th>asian_alone</th>\n",
       "      <th>garden_pop_ratio</th>\n",
       "    </tr>\n",
       "  </thead>\n",
       "  <tbody>\n",
       "    <tr>\n",
       "      <th>7</th>\n",
       "      <td>80</td>\n",
       "      <td>1</td>\n",
       "      <td>11385</td>\n",
       "      <td>Q</td>\n",
       "      <td>109111</td>\n",
       "      <td>77350</td>\n",
       "      <td>36.2</td>\n",
       "      <td>46.6</td>\n",
       "      <td>42.6</td>\n",
       "      <td>2.0</td>\n",
       "      <td>6.9</td>\n",
       "      <td>0.92</td>\n",
       "    </tr>\n",
       "  </tbody>\n",
       "</table>\n",
       "</div>"
      ],
      "text/plain": [
       "   original_index  garden_num  zipcode borough  population  \\\n",
       "7              80           1    11385       Q      109111   \n",
       "\n",
       "   median_household_income  median_age  hispanic_or_latino  white_alone  \\\n",
       "7                    77350        36.2                46.6         42.6   \n",
       "\n",
       "   black_alone  asian_alone  garden_pop_ratio  \n",
       "7          2.0          6.9              0.92  "
      ]
     },
     "execution_count": 200,
     "metadata": {},
     "output_type": "execute_result"
    }
   ],
   "source": [
    "df_bottom.garden_pop_ratio.sort_values(ascending=True).head(1)\n",
    "df_bottom.query('garden_pop_ratio == 0.92')"
   ]
  },
  {
   "cell_type": "code",
   "execution_count": 252,
   "id": "8e31541d",
   "metadata": {},
   "outputs": [
    {
     "data": {
      "text/html": [
       "<div>\n",
       "<style scoped>\n",
       "    .dataframe tbody tr th:only-of-type {\n",
       "        vertical-align: middle;\n",
       "    }\n",
       "\n",
       "    .dataframe tbody tr th {\n",
       "        vertical-align: top;\n",
       "    }\n",
       "\n",
       "    .dataframe thead th {\n",
       "        text-align: right;\n",
       "    }\n",
       "</style>\n",
       "<table border=\"1\" class=\"dataframe\">\n",
       "  <thead>\n",
       "    <tr style=\"text-align: right;\">\n",
       "      <th></th>\n",
       "      <th>garden_num</th>\n",
       "      <th>zipcode</th>\n",
       "      <th>population</th>\n",
       "    </tr>\n",
       "  </thead>\n",
       "  <tbody>\n",
       "    <tr>\n",
       "      <th>0</th>\n",
       "      <td>44</td>\n",
       "      <td>11207</td>\n",
       "      <td>97690</td>\n",
       "    </tr>\n",
       "    <tr>\n",
       "      <th>1</th>\n",
       "      <td>38</td>\n",
       "      <td>10009</td>\n",
       "      <td>60000</td>\n",
       "    </tr>\n",
       "    <tr>\n",
       "      <th>2</th>\n",
       "      <td>26</td>\n",
       "      <td>11233</td>\n",
       "      <td>85633</td>\n",
       "    </tr>\n",
       "    <tr>\n",
       "      <th>3</th>\n",
       "      <td>21</td>\n",
       "      <td>11221</td>\n",
       "      <td>89728</td>\n",
       "    </tr>\n",
       "    <tr>\n",
       "      <th>4</th>\n",
       "      <td>20</td>\n",
       "      <td>10027</td>\n",
       "      <td>65840</td>\n",
       "    </tr>\n",
       "    <tr>\n",
       "      <th>...</th>\n",
       "      <td>...</td>\n",
       "      <td>...</td>\n",
       "      <td>...</td>\n",
       "    </tr>\n",
       "    <tr>\n",
       "      <th>86</th>\n",
       "      <td>1</td>\n",
       "      <td>10024</td>\n",
       "      <td>63916</td>\n",
       "    </tr>\n",
       "    <tr>\n",
       "      <th>87</th>\n",
       "      <td>1</td>\n",
       "      <td>10033</td>\n",
       "      <td>60739</td>\n",
       "    </tr>\n",
       "    <tr>\n",
       "      <th>88</th>\n",
       "      <td>1</td>\n",
       "      <td>11102</td>\n",
       "      <td>27876</td>\n",
       "    </tr>\n",
       "    <tr>\n",
       "      <th>89</th>\n",
       "      <td>1</td>\n",
       "      <td>10475</td>\n",
       "      <td>44509</td>\n",
       "    </tr>\n",
       "    <tr>\n",
       "      <th>90</th>\n",
       "      <td>1</td>\n",
       "      <td>10014</td>\n",
       "      <td>29815</td>\n",
       "    </tr>\n",
       "  </tbody>\n",
       "</table>\n",
       "<p>91 rows × 3 columns</p>\n",
       "</div>"
      ],
      "text/plain": [
       "    garden_num  zipcode  population\n",
       "0           44    11207       97690\n",
       "1           38    10009       60000\n",
       "2           26    11233       85633\n",
       "3           21    11221       89728\n",
       "4           20    10027       65840\n",
       "..         ...      ...         ...\n",
       "86           1    10024       63916\n",
       "87           1    10033       60739\n",
       "88           1    11102       27876\n",
       "89           1    10475       44509\n",
       "90           1    10014       29815\n",
       "\n",
       "[91 rows x 3 columns]"
      ]
     },
     "execution_count": 252,
     "metadata": {},
     "output_type": "execute_result"
    }
   ],
   "source": [
    "df_zipcode = pd.read_csv('all_zipcode.csv')\n",
    "df_zipcode"
   ]
  },
  {
   "cell_type": "code",
   "execution_count": 265,
   "id": "d7471726",
   "metadata": {},
   "outputs": [],
   "source": [
    "ratio_zip = (df_zipcode.garden_num / df_zipcode.population * 100000).round(2)\n",
    "df['ratio'] = ratio_zip\n",
    "df.to_csv('zipcode_sample.csv')\n"
   ]
  }
 ],
 "metadata": {
  "kernelspec": {
   "display_name": "Python 3 (ipykernel)",
   "language": "python",
   "name": "python3"
  },
  "language_info": {
   "codemirror_mode": {
    "name": "ipython",
    "version": 3
   },
   "file_extension": ".py",
   "mimetype": "text/x-python",
   "name": "python",
   "nbconvert_exporter": "python",
   "pygments_lexer": "ipython3",
   "version": "3.10.11"
  }
 },
 "nbformat": 4,
 "nbformat_minor": 5
}
