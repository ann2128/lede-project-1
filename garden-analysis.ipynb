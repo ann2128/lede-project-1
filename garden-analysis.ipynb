{
 "cells": [
  {
   "cell_type": "markdown",
   "id": "f7d3cda3",
   "metadata": {},
   "source": [
    "### Starting analysis of the Open NYC data"
   ]
  },
  {
   "cell_type": "code",
   "execution_count": 4,
   "id": "86cb87ce",
   "metadata": {
    "scrolled": true
   },
   "outputs": [
    {
     "data": {
      "text/plain": [
       "Index(['assemblydist', 'borough', 'communityboard', 'congressionaldist',\n",
       "       'coundist', 'gardenname', 'juris', 'multipolygon', 'openhrsf',\n",
       "       'openhrsm', 'openhrssa', 'openhrssu', 'openhrsth', 'openhrstu',\n",
       "       'openhrsw', 'parksid', 'policeprecinct', 'statesenatedist', 'status',\n",
       "       'zipcode'],\n",
       "      dtype='object')"
      ]
     },
     "execution_count": 4,
     "metadata": {},
     "output_type": "execute_result"
    }
   ],
   "source": [
    "import pandas as pd\n",
    "df = pd.read_csv('GreenThumb_Garden_Info.csv')\n",
    "df.keys()"
   ]
  },
  {
   "cell_type": "code",
   "execution_count": null,
   "id": "4fc8c78d",
   "metadata": {},
   "outputs": [],
   "source": [
    "df.drop(columns='multipolygon', inplace=True)"
   ]
  },
  {
   "cell_type": "markdown",
   "id": "cbd7f19f",
   "metadata": {},
   "source": [
    "After running some quick analysis, I realized that the column \"multipolygon\" is gumming up the output and making it very hard to understand what's going on. I looked at Open NYC's data dictionary and realized that I won't need its information, so I removed it from my dataset. "
   ]
  },
  {
   "cell_type": "code",
   "execution_count": 15,
   "id": "7fe5b68a",
   "metadata": {},
   "outputs": [
    {
     "name": "stdout",
     "output_type": "stream",
     "text": [
      "541\n"
     ]
    }
   ],
   "source": [
    "active_g = df[df['status'].str.contains('Active')]\n",
    "print(len(active_g))\n",
    "\n",
    "#There are at least 541 active gardens in NYC."
   ]
  },
  {
   "cell_type": "code",
   "execution_count": 17,
   "id": "cbbfdff1",
   "metadata": {},
   "outputs": [
    {
     "data": {
      "text/plain": [
       "6.490003415349301"
      ]
     },
     "execution_count": 17,
     "metadata": {},
     "output_type": "execute_result"
    }
   ],
   "source": [
    "#NYC population per the July 2022 estimate is 8,335,897\n",
    "#Source: https://www.census.gov/quickfacts/fact/table/newyorkcitynewyork,richmondcountynewyork,queenscountynewyork,newyorkcountynewyork,kingscountynewyork,bronxcountynewyork/PST045222\n",
    "\n",
    "541 / 8335897 * 100000\n",
    "\n",
    "#6.5 people per 100,000 NYC residents have access to a community garden."
   ]
  },
  {
   "cell_type": "code",
   "execution_count": 27,
   "id": "4c23fe8a",
   "metadata": {},
   "outputs": [
    {
     "data": {
      "text/plain": [
       "borough\n",
       "B    238\n",
       "M    138\n",
       "X    115\n",
       "Q     43\n",
       "R      7\n",
       "Name: count, dtype: int64"
      ]
     },
     "execution_count": 27,
     "metadata": {},
     "output_type": "execute_result"
    }
   ],
   "source": [
    "#Pulling only active gardens for future analysis\n",
    "\n",
    "active_g_borough = active_g.borough.value_counts()\n",
    "active_g_borough "
   ]
  },
  {
   "cell_type": "code",
   "execution_count": 53,
   "id": "4a8854ac",
   "metadata": {},
   "outputs": [],
   "source": [
    "active_g_borough.to_csv('garden_by_borough.csv')"
   ]
  },
  {
   "cell_type": "markdown",
   "id": "cfe1f8a3",
   "metadata": {},
   "source": [
    "I'm saving this borough information dataset into a new CSV so so it's easier to add additional demographic information and I can have a quick file for datawrapper."
   ]
  },
  {
   "cell_type": "code",
   "execution_count": 24,
   "id": "6e4065c7",
   "metadata": {},
   "outputs": [],
   "source": [
    "active_g_zipcode = active_g.zipcode.value_counts()\n",
    "active_g_zipcode.to_csv('garden_by_zipcode.csv')"
   ]
  },
  {
   "cell_type": "markdown",
   "id": "5903d2c8",
   "metadata": {},
   "source": [
    "I'm also saving this zipcode information into a new CSV file so it's easier to add additional demographic information and I can have a quick file for datawrapper."
   ]
  },
  {
   "cell_type": "markdown",
   "id": "7d41b494",
   "metadata": {},
   "source": [
    "### Data analysis for boroughs"
   ]
  },
  {
   "cell_type": "code",
   "execution_count": 56,
   "id": "021e6cbd",
   "metadata": {},
   "outputs": [],
   "source": [
    "df_borough = pd.read_csv('garden_by_borough.csv')"
   ]
  },
  {
   "cell_type": "code",
   "execution_count": 57,
   "id": "fcdaaae9",
   "metadata": {},
   "outputs": [
    {
     "name": "stdout",
     "output_type": "stream",
     "text": [
      "  borough  garden_count  population\n",
      "0       B           238     2590516\n",
      "1       M           138     1596273\n",
      "2       X           115     1379946\n",
      "3       Q            43     2278029\n",
      "4       R             7      491133\n"
     ]
    }
   ],
   "source": [
    "#add borough population (per July 2022 estimate) to dataframe\n",
    "#url: https://www.census.gov/quickfacts/fact/table/richmondcountynewyork,queenscountynewyork,newyorkcountynewyork,kingscountynewyork,bronxcountynewyork/PST045222\n",
    "population = [2590516, 1596273, 1379946, 2278029, 491133]\n",
    "df_borough['population'] = population\n",
    "print(df_borough)"
   ]
  },
  {
   "cell_type": "code",
   "execution_count": 65,
   "id": "d3fd1c4c",
   "metadata": {},
   "outputs": [
    {
     "name": "stdout",
     "output_type": "stream",
     "text": [
      "  borough  garden_count  population  ratio\n",
      "0       B           238     2590516   9.19\n",
      "1       M           138     1596273   8.65\n",
      "2       X           115     1379946   8.33\n",
      "3       Q            43     2278029   1.89\n",
      "4       R             7      491133   1.43\n"
     ]
    }
   ],
   "source": [
    "#people per 100,000 residents who has access to community garden in each borough\n",
    "ratio = (df_borough.garden_count / df_borough.population * 100000).round(2)\n",
    "\n",
    "#add ratio to the dataframe and save\n",
    "df_borough['ratio'] = ratio\n",
    "df_borough.to_csv('garden_by_borough.csv')\n",
    "print(df_borough)"
   ]
  },
  {
   "cell_type": "markdown",
   "id": "18cacad0",
   "metadata": {},
   "source": [
    "### Data analysis for zipcodes"
   ]
  },
  {
   "cell_type": "code",
   "execution_count": 2,
   "id": "b42defaf",
   "metadata": {},
   "outputs": [],
   "source": [
    "import pandas as pd\n",
    "df_zipcode = pd.read_csv('garden_by_zipcode.csv')"
   ]
  },
  {
   "cell_type": "markdown",
   "id": "e6fde535",
   "metadata": {},
   "source": [
    "Without knowing how to scrape websites, I'm adding demographic data like population, racial makeup, median age and median household income into the dataset manually on the csv."
   ]
  },
  {
   "cell_type": "code",
   "execution_count": 3,
   "id": "350b43ee",
   "metadata": {
    "scrolled": true
   },
   "outputs": [
    {
     "data": {
      "text/html": [
       "<div>\n",
       "<style scoped>\n",
       "    .dataframe tbody tr th:only-of-type {\n",
       "        vertical-align: middle;\n",
       "    }\n",
       "\n",
       "    .dataframe tbody tr th {\n",
       "        vertical-align: top;\n",
       "    }\n",
       "\n",
       "    .dataframe thead th {\n",
       "        text-align: right;\n",
       "    }\n",
       "</style>\n",
       "<table border=\"1\" class=\"dataframe\">\n",
       "  <thead>\n",
       "    <tr style=\"text-align: right;\">\n",
       "      <th></th>\n",
       "      <th>Unnamed: 0.1</th>\n",
       "      <th>Unnamed: 0</th>\n",
       "      <th>garden_count</th>\n",
       "      <th>zipcode</th>\n",
       "      <th>borough</th>\n",
       "      <th>population</th>\n",
       "      <th>median_household_income</th>\n",
       "      <th>median_age</th>\n",
       "      <th>hispanic_or_latino</th>\n",
       "      <th>white_alone</th>\n",
       "      <th>black_alone</th>\n",
       "      <th>asian_alone</th>\n",
       "      <th>Unnamed: 10</th>\n",
       "      <th>ratio_zipcode</th>\n",
       "    </tr>\n",
       "  </thead>\n",
       "  <tbody>\n",
       "    <tr>\n",
       "      <th>0</th>\n",
       "      <td>0</td>\n",
       "      <td>0</td>\n",
       "      <td>44</td>\n",
       "      <td>11207</td>\n",
       "      <td>B</td>\n",
       "      <td>97690</td>\n",
       "      <td>45616</td>\n",
       "      <td>35.0</td>\n",
       "      <td>34.4</td>\n",
       "      <td>5.1</td>\n",
       "      <td>55.2</td>\n",
       "      <td>1.5</td>\n",
       "      <td>NaN</td>\n",
       "      <td>45.04</td>\n",
       "    </tr>\n",
       "    <tr>\n",
       "      <th>1</th>\n",
       "      <td>1</td>\n",
       "      <td>1</td>\n",
       "      <td>38</td>\n",
       "      <td>10009</td>\n",
       "      <td>M</td>\n",
       "      <td>60000</td>\n",
       "      <td>77551</td>\n",
       "      <td>37.0</td>\n",
       "      <td>24.5</td>\n",
       "      <td>50.8</td>\n",
       "      <td>6.8</td>\n",
       "      <td>12.9</td>\n",
       "      <td>NaN</td>\n",
       "      <td>63.33</td>\n",
       "    </tr>\n",
       "    <tr>\n",
       "      <th>2</th>\n",
       "      <td>2</td>\n",
       "      <td>2</td>\n",
       "      <td>26</td>\n",
       "      <td>11233</td>\n",
       "      <td>B</td>\n",
       "      <td>85633</td>\n",
       "      <td>52380</td>\n",
       "      <td>34.1</td>\n",
       "      <td>15.9</td>\n",
       "      <td>11.4</td>\n",
       "      <td>67.7</td>\n",
       "      <td>1.3</td>\n",
       "      <td>NaN</td>\n",
       "      <td>30.36</td>\n",
       "    </tr>\n",
       "    <tr>\n",
       "      <th>3</th>\n",
       "      <td>3</td>\n",
       "      <td>3</td>\n",
       "      <td>21</td>\n",
       "      <td>11221</td>\n",
       "      <td>B</td>\n",
       "      <td>89728</td>\n",
       "      <td>66923</td>\n",
       "      <td>32.1</td>\n",
       "      <td>32.4</td>\n",
       "      <td>20.0</td>\n",
       "      <td>39.5</td>\n",
       "      <td>4.4</td>\n",
       "      <td>NaN</td>\n",
       "      <td>23.40</td>\n",
       "    </tr>\n",
       "    <tr>\n",
       "      <th>4</th>\n",
       "      <td>4</td>\n",
       "      <td>4</td>\n",
       "      <td>20</td>\n",
       "      <td>10027</td>\n",
       "      <td>M</td>\n",
       "      <td>65840</td>\n",
       "      <td>58435</td>\n",
       "      <td>31.0</td>\n",
       "      <td>25.8</td>\n",
       "      <td>26.1</td>\n",
       "      <td>35.3</td>\n",
       "      <td>8.6</td>\n",
       "      <td>NaN</td>\n",
       "      <td>30.38</td>\n",
       "    </tr>\n",
       "    <tr>\n",
       "      <th>...</th>\n",
       "      <td>...</td>\n",
       "      <td>...</td>\n",
       "      <td>...</td>\n",
       "      <td>...</td>\n",
       "      <td>...</td>\n",
       "      <td>...</td>\n",
       "      <td>...</td>\n",
       "      <td>...</td>\n",
       "      <td>...</td>\n",
       "      <td>...</td>\n",
       "      <td>...</td>\n",
       "      <td>...</td>\n",
       "      <td>...</td>\n",
       "      <td>...</td>\n",
       "    </tr>\n",
       "    <tr>\n",
       "      <th>86</th>\n",
       "      <td>86</td>\n",
       "      <td>86</td>\n",
       "      <td>1</td>\n",
       "      <td>10024</td>\n",
       "      <td>M</td>\n",
       "      <td>63916</td>\n",
       "      <td>153177</td>\n",
       "      <td>41.5</td>\n",
       "      <td>11.6</td>\n",
       "      <td>77.4</td>\n",
       "      <td>2.3</td>\n",
       "      <td>5.6</td>\n",
       "      <td>NaN</td>\n",
       "      <td>1.56</td>\n",
       "    </tr>\n",
       "    <tr>\n",
       "      <th>87</th>\n",
       "      <td>87</td>\n",
       "      <td>87</td>\n",
       "      <td>1</td>\n",
       "      <td>10033</td>\n",
       "      <td>M</td>\n",
       "      <td>60739</td>\n",
       "      <td>71630</td>\n",
       "      <td>36.9</td>\n",
       "      <td>66.6</td>\n",
       "      <td>24.9</td>\n",
       "      <td>3.7</td>\n",
       "      <td>2.8</td>\n",
       "      <td>NaN</td>\n",
       "      <td>1.65</td>\n",
       "    </tr>\n",
       "    <tr>\n",
       "      <th>88</th>\n",
       "      <td>88</td>\n",
       "      <td>88</td>\n",
       "      <td>1</td>\n",
       "      <td>11102</td>\n",
       "      <td>Q</td>\n",
       "      <td>27876</td>\n",
       "      <td>95478</td>\n",
       "      <td>35.0</td>\n",
       "      <td>25.8</td>\n",
       "      <td>48.2</td>\n",
       "      <td>6.2</td>\n",
       "      <td>14.9</td>\n",
       "      <td>NaN</td>\n",
       "      <td>3.59</td>\n",
       "    </tr>\n",
       "    <tr>\n",
       "      <th>89</th>\n",
       "      <td>89</td>\n",
       "      <td>89</td>\n",
       "      <td>1</td>\n",
       "      <td>10475</td>\n",
       "      <td>X</td>\n",
       "      <td>44509</td>\n",
       "      <td>56327</td>\n",
       "      <td>46.7</td>\n",
       "      <td>31.2</td>\n",
       "      <td>5.2</td>\n",
       "      <td>58.4</td>\n",
       "      <td>2.2</td>\n",
       "      <td>NaN</td>\n",
       "      <td>2.25</td>\n",
       "    </tr>\n",
       "    <tr>\n",
       "      <th>90</th>\n",
       "      <td>90</td>\n",
       "      <td>90</td>\n",
       "      <td>1</td>\n",
       "      <td>10014</td>\n",
       "      <td>M</td>\n",
       "      <td>29815</td>\n",
       "      <td>136559</td>\n",
       "      <td>39.2</td>\n",
       "      <td>8.8</td>\n",
       "      <td>81.3</td>\n",
       "      <td>1.6</td>\n",
       "      <td>4.6</td>\n",
       "      <td>NaN</td>\n",
       "      <td>3.35</td>\n",
       "    </tr>\n",
       "  </tbody>\n",
       "</table>\n",
       "<p>91 rows × 14 columns</p>\n",
       "</div>"
      ],
      "text/plain": [
       "    Unnamed: 0.1  Unnamed: 0  garden_count  zipcode borough  population  \\\n",
       "0              0           0            44    11207       B       97690   \n",
       "1              1           1            38    10009       M       60000   \n",
       "2              2           2            26    11233       B       85633   \n",
       "3              3           3            21    11221       B       89728   \n",
       "4              4           4            20    10027       M       65840   \n",
       "..           ...         ...           ...      ...     ...         ...   \n",
       "86            86          86             1    10024       M       63916   \n",
       "87            87          87             1    10033       M       60739   \n",
       "88            88          88             1    11102       Q       27876   \n",
       "89            89          89             1    10475       X       44509   \n",
       "90            90          90             1    10014       M       29815   \n",
       "\n",
       "    median_household_income  median_age  hispanic_or_latino  white_alone  \\\n",
       "0                     45616        35.0                34.4          5.1   \n",
       "1                     77551        37.0                24.5         50.8   \n",
       "2                     52380        34.1                15.9         11.4   \n",
       "3                     66923        32.1                32.4         20.0   \n",
       "4                     58435        31.0                25.8         26.1   \n",
       "..                      ...         ...                 ...          ...   \n",
       "86                   153177        41.5                11.6         77.4   \n",
       "87                    71630        36.9                66.6         24.9   \n",
       "88                    95478        35.0                25.8         48.2   \n",
       "89                    56327        46.7                31.2          5.2   \n",
       "90                   136559        39.2                 8.8         81.3   \n",
       "\n",
       "    black_alone  asian_alone  Unnamed: 10  ratio_zipcode  \n",
       "0          55.2          1.5          NaN          45.04  \n",
       "1           6.8         12.9          NaN          63.33  \n",
       "2          67.7          1.3          NaN          30.36  \n",
       "3          39.5          4.4          NaN          23.40  \n",
       "4          35.3          8.6          NaN          30.38  \n",
       "..          ...          ...          ...            ...  \n",
       "86          2.3          5.6          NaN           1.56  \n",
       "87          3.7          2.8          NaN           1.65  \n",
       "88          6.2         14.9          NaN           3.59  \n",
       "89         58.4          2.2          NaN           2.25  \n",
       "90          1.6          4.6          NaN           3.35  \n",
       "\n",
       "[91 rows x 14 columns]"
      ]
     },
     "execution_count": 3,
     "metadata": {},
     "output_type": "execute_result"
    }
   ],
   "source": [
    "#people per 100,000 residents who has access to community garden in each zipcode with a garden\n",
    "ratio_zipcode = (df_zipcode.garden_count / df_zipcode.population * 100000).round(2)\n",
    "\n",
    "#adding ratio to the dataframe and save\n",
    "df_zipcode['ratio_zipcode'] = ratio_zipcode\n",
    "df_zipcode.to_csv('garden_by_zipcode.csv')\n",
    "df_zipcode"
   ]
  },
  {
   "cell_type": "code",
   "execution_count": 5,
   "id": "fe82744e",
   "metadata": {
    "scrolled": true
   },
   "outputs": [
    {
     "data": {
      "text/plain": [
       "3.0"
      ]
     },
     "execution_count": 5,
     "metadata": {},
     "output_type": "execute_result"
    }
   ],
   "source": [
    "df_zipcode.garden_count.median()\n",
    "#the median number of gardens to have per zipcode that has garden(s) is 3. "
   ]
  },
  {
   "cell_type": "markdown",
   "id": "29201684",
   "metadata": {},
   "source": [
    "print(df_zipcode.garden_count.value_counts())\n",
    "#the most common number of garden to have for a zipcode that has garden(s) is 1. \n",
    "#68 zipcodes have single-digit numbers of garden."
   ]
  },
  {
   "cell_type": "markdown",
   "id": "7877e64e",
   "metadata": {},
   "source": [
    "For the two calculations above, I can't word it as the median number of gardens per zipcode in the city because this dataset doesn't include info on zipcodes without a garden."
   ]
  },
  {
   "cell_type": "code",
   "execution_count": 6,
   "id": "c898b20d",
   "metadata": {},
   "outputs": [],
   "source": [
    "#the 10 zipcodes with the highest numbers of active community gardens\n",
    "df_zipcode.head(10).to_csv('top_garden_zipcode.csv')"
   ]
  },
  {
   "cell_type": "markdown",
   "id": "e94a3bba",
   "metadata": {},
   "source": [
    "Saving this as a separate csv file for easy datawrapper visualization"
   ]
  },
  {
   "cell_type": "code",
   "execution_count": 7,
   "id": "e63b0ac7",
   "metadata": {},
   "outputs": [
    {
     "data": {
      "text/plain": [
       "borough\n",
       "B    6\n",
       "M    3\n",
       "X    1\n",
       "Name: count, dtype: int64"
      ]
     },
     "execution_count": 7,
     "metadata": {},
     "output_type": "execute_result"
    }
   ],
   "source": [
    "#the borough where these top 10 zipcodes are located\n",
    "df_zipcode.head(10).borough.value_counts()"
   ]
  },
  {
   "cell_type": "code",
   "execution_count": 8,
   "id": "549f96e8",
   "metadata": {
    "scrolled": false
   },
   "outputs": [
    {
     "name": "stdout",
     "output_type": "stream",
     "text": [
      "289\n",
      "263\n"
     ]
    }
   ],
   "source": [
    "#There are at least 541 active gardens in NYC, so half is 271. \n",
    "print(df_zipcode.query('median_household_income < 52500').garden_count.sum())\n",
    "print(df_zipcode.query('median_household_income < 52000').garden_count.sum())"
   ]
  },
  {
   "cell_type": "markdown",
   "id": "41b095e9",
   "metadata": {},
   "source": [
    "Here, I'm trying to figure out what kind of neighbourhood most of the community gardens are in and the variable I'm trying to analyze is median household income. I added up the value count for median household income levels to see where the threshold is, and it turns out to be $52,500."
   ]
  },
  {
   "cell_type": "code",
   "execution_count": 10,
   "id": "7cc7b976",
   "metadata": {},
   "outputs": [
    {
     "name": "stdout",
     "output_type": "stream",
     "text": [
      "65038.0\n",
      "25.8\n",
      "20.4\n",
      "23.8\n",
      "5.4\n"
     ]
    }
   ],
   "source": [
    "print(df_zipcode.median_household_income.median())\n",
    "# #The median of median household income for zipcodes with garden(s) is $65,038.\n",
    "\n",
    "print(df_zipcode.hispanic_or_latino.median())\n",
    "# #The median percentage of the Latino/Hispanic population is around 25.8%.\n",
    "\n",
    "print(df_zipcode.white_alone.median())\n",
    "# #The median percentage of the white alone population is 20.4%\n",
    "\n",
    "print(df_zipcode.black_alone.median())\n",
    "# #The median percentage of the black alone population is 23.8%\n",
    "\n",
    "print(df_zipcode.asian_alone.median())\n",
    "# #The median percentage of the Asian alone population is 5.4%\n"
   ]
  },
  {
   "cell_type": "markdown",
   "id": "c78f0afd",
   "metadata": {},
   "source": [
    "I'm using the median of the demographic data from all zipcodes with community gardens to approximate a profile of what kind of neighbourhood would have a garden. At the same time, I don't think this is conclusive because I don't have the demographic data of zipcodes without a garden to include in this calculation. A better way of looking at this calculation is that it is giving me the median of zipcodes that currently have garden(s) — as opposed to help with creating a predictive profile. "
   ]
  },
  {
   "cell_type": "code",
   "execution_count": 128,
   "id": "5efc31b3",
   "metadata": {},
   "outputs": [
    {
     "name": "stdout",
     "output_type": "stream",
     "text": [
      "49346.0\n",
      "33.4\n",
      "12.25\n",
      "38.6\n",
      "4.050000000000001\n"
     ]
    }
   ],
   "source": [
    "df_top_ten_zipcode = pd.read_csv('top_garden_zipcode.csv')\n",
    "\n",
    "print(df_top_ten_zipcode.median_household_income.median())\n",
    "# #The median of median household income for these 10 zipcodes is $49,346.\n",
    "\n",
    "print(df_top_ten_zipcode.hispanic_or_latino.median())\n",
    "# #The median percentage of the Latino/Hispanic population is around 33.4%.\n",
    "\n",
    "print(df_top_ten_zipcode.white_alone.median())\n",
    "# #The median percentage of the white alone population is 12.3%\n",
    "\n",
    "print(df_top_ten_zipcode.black_alone.median())\n",
    "# #The median percentage of the black alone population is 38.6%\n",
    "\n",
    "print(df_top_ten_zipcode.asian_alone.median())\n",
    "# #The median percentage of the Asian alone population is 4.05%"
   ]
  },
  {
   "cell_type": "markdown",
   "id": "9dfeb0e7",
   "metadata": {},
   "source": [
    "I'm using the median of the demographic data from the 10 zipcodes with the highest numbers of community gardens (ranging from 17 to 44) to approximate a profile of what a neighbourhood with such a statisitic looks like. "
   ]
  }
 ],
 "metadata": {
  "kernelspec": {
   "display_name": "Python 3 (ipykernel)",
   "language": "python",
   "name": "python3"
  },
  "language_info": {
   "codemirror_mode": {
    "name": "ipython",
    "version": 3
   },
   "file_extension": ".py",
   "mimetype": "text/x-python",
   "name": "python",
   "nbconvert_exporter": "python",
   "pygments_lexer": "ipython3",
   "version": "3.10.11"
  }
 },
 "nbformat": 4,
 "nbformat_minor": 5
}
